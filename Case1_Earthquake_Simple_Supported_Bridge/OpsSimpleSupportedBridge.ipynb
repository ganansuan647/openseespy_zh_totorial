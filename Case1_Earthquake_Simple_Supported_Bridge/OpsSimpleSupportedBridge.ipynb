{
 "cells": [
  {
   "cell_type": "markdown",
   "metadata": {
    "author": "苟凌云",
    "date": "2024-10-25",
    "email": "gulangyu@tongji.edu.cn"
   },
   "source": [
    "## 钢筋混凝土简支梁地震分析示例\n",
    "*说明*：此脚本用于同济大学土木工程学院2024级研究生课程《桥梁智能设计与建造》阶段二 —— 有限元分析与智能评估\n",
    "\n",
    "[![Teacher](https://img.shields.io/badge/授课教师-王晓伟-brightgreen)](https://faculty-civileng.tongji.edu.cn/wangxiaowei/zh_CN/index/34554)\n",
    "[![Author](https://img.shields.io/badge/脚本作者-苟凌云-brightgreen)](https://github.com/ganansuan647)\n",
    "[![Opstool开发及技术支持](https://img.shields.io/badge/Opstool开发及技术支持-闫业祥-brightgreen)](https://github.com/yexiang1992)\n",
    "\n",
    "仅用于OpenSeesPy的学习交流。\n",
    "\n",
    "参考资料请查看:\n",
    "\n",
    "[OpenSeesPy文档](https://openseespydoc.readthedocs.io/en/latest/) | \n",
    "[Opstool文档](https://opstool.readthedocs.io/en/latest/) | \n",
    "[OpsCodeHint](https://github.com/yexiang1992/openseespy_code_hints)  → C:\\ProgramData\\anaconda3"
   ]
  },
  {
   "cell_type": "code",
   "execution_count": null,
   "metadata": {},
   "outputs": [],
   "source": [
    "# 安装必要的模块（如已安装则跳过）\n",
    "!pip install openseespy\n",
    "!pip install opstool\n",
    "!pip install numpy"
   ]
  },
  {
   "cell_type": "code",
   "execution_count": 1,
   "metadata": {
    "notebookRunGroups": {
     "groupValue": "1"
    }
   },
   "outputs": [],
   "source": [
    "# 导入必要的模块\n",
    "import openseespy.opensees as ops  # OpenSeesPy主模块\n",
    "from typing import Literal\n",
    "import numpy as np"
   ]
  },
  {
   "cell_type": "code",
   "execution_count": null,
   "metadata": {
    "notebookRunGroups": {
     "groupValue": "1"
    }
   },
   "outputs": [],
   "source": [
    "print(\"开始钢筋混凝土简支梁地震分析示例\")\n",
    "ops.wipe()\n",
    "# 单位规定：kN, m, s\n",
    "# 创建ModelBuilder（三维模型，每个节点6个自由度）\n",
    "ops.model('basic', '-ndm', 3, '-ndf', 6)\n",
    "\n",
    "# ====== 参数定义 ====== #\n",
    "L = 30  # 跨度长度(m)\n",
    "H = 15  # 墩高(m)\n",
    "nH, nL = 5, 10  # 高度和长度方向的分段数\n",
    "\n",
    "g = 9.81  # 重力加速度(m/s^2)\n",
    "m_girder = 50  # 每延米主梁质量(ton/m)\n",
    "m_pier = 2.5*1*2  # 每延米墩柱质量(ton/m)\n",
    "print(\"模型参数已定义！\")"
   ]
  },
  {
   "cell_type": "code",
   "execution_count": null,
   "metadata": {
    "notebookRunGroups": {
     "groupValue": "1"
    }
   },
   "outputs": [],
   "source": [
    "# 创建墩的节点并添加质量\n",
    "y = 0.0  # 所有点y坐标均为0\n",
    "for i in range(2):\n",
    "    # i=0 左墩，i=1 右墩\n",
    "    x = i * L\n",
    "    for j in range(nH+1):\n",
    "        z = j * H / nH\n",
    "        node_tag = (i+1)*100 + j+1\n",
    "        ops.node(node_tag, x, y, z)\n",
    "        # 墩柱质量分配(每段的质量均匀分给上下节点)\n",
    "        M = m_pier*H    # 墩柱总质量\n",
    "        m = M/nH/2 if (j == 0 or j == nH) else M/nH\n",
    "        ops.mass(node_tag, m, m, m, 0.0, 0.0, 0.0)\n",
    "    print(f\"{'左' if i==0 else '右'}桥墩节点已创建！\")\n",
    "\n",
    "# 创建主梁的节点\n",
    "for i in range(nL+1):\n",
    "    x = i * L / nL\n",
    "    z = H\n",
    "    node_tag = 1000 + i+1\n",
    "    ops.node(node_tag, x, y, z)\n",
    "    # 主梁质量分配(每段的质量均匀分给左右节点)\n",
    "    M = m_girder*L    # 主梁总质量\n",
    "    m = M/nL/2 if (i == 0 or i == nL) else M/nL\n",
    "    ops.mass(node_tag, m, m, m, 0.0, 0.0, 0.0)\n",
    "print(\"主梁节点已创建！\")"
   ]
  },
  {
   "cell_type": "code",
   "execution_count": null,
   "metadata": {
    "notebookRunGroups": {
     "groupValue": "1"
    }
   },
   "outputs": [],
   "source": [
    "# 固定墩柱底部\n",
    "#  tag, DX, DY, DZ, RX, RY, RZ\n",
    "ops.fix(101, 1, 1, 1, 1, 1, 1)\n",
    "ops.fix(201, 1, 1, 1, 1, 1, 1)\n",
    "print(\"桥墩底部已固定！\")"
   ]
  },
  {
   "cell_type": "code",
   "execution_count": null,
   "metadata": {
    "notebookRunGroups": {
     "groupValue": "1"
    }
   },
   "outputs": [],
   "source": [
    "# 定义截面\n",
    "# 定义非线性柱的材料\n",
    "# ------------------------------------------\n",
    "# 混凝土                          tag     f'c    ec0    f'cu    ecu\n",
    "# 约束核心混凝土\n",
    "ops.uniaxialMaterial(\"Concrete01\", 1, -41000, -0.004, -34470, -0.014)\n",
    "# 非约束保护层混凝土\n",
    "ops.uniaxialMaterial(\"Concrete01\", 2, -34470, -0.002, -25000, -0.006)\n",
    "# 钢筋材料\n",
    "fy, E, b = 400e3, 206.84e6, 0.01  # 屈服应力, 杨氏模量,硬化率\n",
    "ops.uniaxialMaterial(\"Steel01\", 3, fy, E, b)\n",
    "# 墩柱尺寸\n",
    "colWidth, colDepth = 1, 2\n",
    "cover = 0.08\n",
    "As = 0.02  # 钢筋面积\n",
    "\n",
    "# 从参数派生的一些变量\n",
    "y1, z1 = colDepth / 2.0, colWidth / 2.0\n",
    "# 创建纤维截面\n",
    "ops.section(\"Fiber\", 991, \"-GJ\", 1e10)\n",
    "# 创建混凝土核心纤维\n",
    "ops.patch(\"rect\", 1, 10, 1, cover - y1, cover - z1, y1 - cover, z1 - cover)\n",
    "# 创建混凝土保护层纤维（顶部、底部、左侧、右侧）\n",
    "ops.patch(\"rect\", 2, 10, 1, -y1, z1 - cover, y1, z1)\n",
    "ops.patch(\"rect\", 2, 10, 1, -y1, -z1, y1, cover - z1)\n",
    "ops.patch(\"rect\", 2, 2, 1, -y1, cover - z1, cover - y1, z1 - cover)\n",
    "ops.patch(\"rect\", 2, 2, 1, y1 - cover, cover - z1, y1, z1 - cover)\n",
    "# 创建钢筋纤维（右侧、中间、左侧）\n",
    "ops.layer(\"straight\", 3, 3, As, y1 - cover, z1 - cover, y1 - cover, cover - z1)\n",
    "ops.layer(\"straight\", 3, 2, As, 0.0, z1 - cover, 0.0, cover - z1)\n",
    "ops.layer(\"straight\", 3, 3, As, cover - y1, z1 - cover, cover - y1, cover - z1)\n",
    "pier_sec = 1\n",
    "ops.uniaxialMaterial(\"Elastic\", 103, 1e10)\n",
    "ops.section(\"Aggregator\", pier_sec, *[103, \"T\"], \"-section\", 991)\n",
    "\n",
    "print(f\"墩柱截面已定义！tag={pier_sec}\")"
   ]
  },
  {
   "cell_type": "markdown",
   "metadata": {},
   "source": [
    "这里仅演示了利用基础方法创建纤维截面，详细如[patch](https://opensees.berkeley.edu/wiki/index.php?title=Patch_Command),[layer](https://opensees.berkeley.edu/wiki/index.php?title=Layer_Command),[section](https://opensees.berkeley.edu/wiki/index.php?title=Fiber_Section)命令的意义可以参考对应的Openseeswiki文档链接(见前)，这是因为[Openseespy文档的对应部分](https://openseespydoc.readthedocs.io/en/latest/src/fibersection.html)没有图片，不太直观\n",
    "\n",
    "利用[Opstool](https://opstool.readthedocs.io/en/latest/src/notebooks/mod_vis_fibersec.html)也可以实现纤维截面的建模及可视化，这里不做演示，有兴趣可自行尝试"
   ]
  },
  {
   "cell_type": "code",
   "execution_count": null,
   "metadata": {
    "notebookRunGroups": {
     "groupValue": "1"
    }
   },
   "outputs": [],
   "source": [
    "# ====== 定义单元 ====== #\n",
    "# 桥墩单元\n",
    "# 定义单元之前先要定义几何变换\n",
    "ops.geomTransf('Linear', 1, 0, 1, 0)\n",
    "# 设置元素长度方向的积分点数量(dispBeamColumn需要)\n",
    "NP = 5\n",
    "# 使用Lobatto积分，id为2\n",
    "ops.beamIntegration('Lobatto', 2, pier_sec, NP)\n",
    "# 使用塑性梁柱单元创建桥墩\n",
    "for i in range(2):\n",
    "    for j in range(nH):\n",
    "        node1 = (i+1)*100 + j+1\n",
    "        node2 = (i+1)*100 + j+2\n",
    "        ele_tag = (i+1)*100 + j+1\n",
    "        # 倒数第二个参数是几何变换的tag，最后一个参数是积分点的tag\n",
    "        ops.element('dispBeamColumn', ele_tag, node1, node2, 1, 2)\n",
    "    print(f\"{'左' if i==0 else '右'}桥墩单元已创建！\")\n",
    "        \n",
    "# 定义梁元素的几何变换\n",
    "ops.geomTransf('Linear', 2, 0, 1, 0)\n",
    "\n",
    "# 创建弹性梁单元\n",
    "for i in range(nL):\n",
    "    ele_tag = 1000 + i + 1\n",
    "    node1 = 1000 + i + 1\n",
    "    node2 = node1 + 1\n",
    "    #                                    tag, ndI,     ndJ,    A,     E,   Iz,   Iy,    G,    J, transfTag\n",
    "    ops.element('elasticBeamColumn', ele_tag, node1, node2, 0.86, 210e6, 23.2, 2.32, 81e6, 3.13, 2)\n",
    "print(\"主梁单元已创建！\")"
   ]
  },
  {
   "cell_type": "code",
   "execution_count": null,
   "metadata": {
    "notebookRunGroups": {
     "groupValue": "1"
    }
   },
   "outputs": [],
   "source": [
    "# ====== 定义支座 ====== #\n",
    "rigid_tag,free_tag = 9903,9904\n",
    "ops.uniaxialMaterial('Elastic', rigid_tag, 1e7)  # 大刚度\n",
    "ops.uniaxialMaterial('Elastic', free_tag, 10)  # 小刚度\n",
    "\n",
    "def define_bearings(type:Literal['Rubber','Frame']):\n",
    "    # 支座采用零长单元\n",
    "    if type == 'Rubber':\n",
    "        # 水平和竖向采用橡胶支座刚度，为橡胶支座\n",
    "        # 以GBZJ500X650X110(CR)为例\n",
    "        M_girder = m_girder*L  # 主梁质量(吨)\n",
    "        At = 0.3136  # 支座面积(m^2)\n",
    "        E = 462037.5  # 弹性模量 E=5.4GS^2(kPa)\n",
    "        k = 4704  # 抗剪刚度(kN/m)\n",
    "        fy = 0.2*M_girder/2*9.81  # 动摩擦力(kN)\n",
    "\n",
    "        # 定义支座材料(根据规范计算)，假定有10个\n",
    "        n_bear = 10\n",
    "        ops.uniaxialMaterial('Elastic', 9901, n_bear*E*At)  # 竖向刚度\n",
    "        ops.uniaxialMaterial('Steel01', 9902, fy, n_bear*k, 0.000001)  # 双线性本构\n",
    "        ops.element('zeroLength',11, *[100+nH+1,1001],'-mat',*[9902,9902,9901,rigid_tag,free_tag,free_tag],'-dir',*[1,2,3,4,5,6])\n",
    "        ops.element('zeroLength',21, *[200+nH+1,1000+nL+1],'-mat',*[9902,9902,9901,rigid_tag,free_tag,free_tag],'-dir',*[1,2,3,4,5,6])\n",
    "        print(\"橡胶支座已定义！tag=[11,21]\")\n",
    "    elif type == 'Frame':   \n",
    "        # 以下定义所有自由度均为大刚度，可以近似等效为框架（取消注释和上面的命令互换试试）\n",
    "        ops.element('zeroLength',11, *[100+nH+1,1001],'-mat',*[rigid_tag,rigid_tag,rigid_tag,rigid_tag,rigid_tag,rigid_tag],'-dir',*[1,2,3,4,5,6])\n",
    "        ops.element('zeroLength',21, *[200+nH+1,1000+nL+1],'-mat',*[rigid_tag,rigid_tag,rigid_tag,rigid_tag,rigid_tag,rigid_tag],'-dir',*[1,2,3,4,5,6])\n",
    "        print(\"刚性支座连接已定义！tag=[11,21]\")\n",
    "    else:\n",
    "        raise NotImplementedError(f\"支座类型{type}未实现\")\n",
    "\n",
    "define_bearings(type='Rubber')"
   ]
  },
  {
   "cell_type": "code",
   "execution_count": null,
   "metadata": {
    "notebookRunGroups": {
     "groupValue": "1"
    }
   },
   "outputs": [],
   "source": [
    "# ====== 定义重力荷载 ====== #\n",
    "\n",
    "# 创建带有线性时间序列的Plain荷载模式\n",
    "ops.timeSeries('Linear', 1)\n",
    "ops.pattern('Plain', 1, 1)\n",
    "\n",
    "# 为每个点创建荷载\n",
    "for node in ops.getNodeTags():\n",
    "    # 读取节点质量,这里读取的是z向质量(dir=3)\n",
    "    P = ops.nodeMass(node,3)*g    # 节点z向质量*重力加速度\n",
    "    if P > 0:\n",
    "        ops.load(node, 0.0, 0.0, -P, 0.0, 0.0, 0.0)\n",
    "print(\"所有节点重力荷载已定义！\")\n",
    "print(\"模型定义完成!\")"
   ]
  },
  {
   "cell_type": "code",
   "execution_count": null,
   "metadata": {
    "notebookRunGroups": {
     "groupValue": "1"
    }
   },
   "outputs": [],
   "source": [
    "# 定义完模型即可使用opstool协助进行可视化\n",
    "import opstool as opst\n",
    "# 获取模型数据\n",
    "ModelData = opst.GetFEMdata(results_dir=\"opstool_output\")\n",
    "ModelData.get_model_data(save_file=\"ModelData.hdf5\",print_model_info=True)\n",
    "# 使用plotly进行模型可视化\n",
    "opsvis = opst.OpsVisPlotly(point_size=2, line_width=3, colors_dict=None, theme=\"plotly\",\n",
    "                           color_map=\"jet\", results_dir=\"opstool_output\",on_notebook=True)\n",
    "fig = opsvis.model_vis(input_file=\"ModelData.hdf5\",\n",
    "                 show_node_label=False,\n",
    "                 show_ele_label=False,\n",
    "                 show_local_crd=True,\n",
    "                 show_fix_node=True,\n",
    "                 show_constrain_dof=False,\n",
    "                 label_size=8,\n",
    "                 show_outline=True,\n",
    "                 opacity=1.0)\n",
    "fig.write_html(\"ModelData.html\", auto_open=True)    # 在浏览器里自动打开\n",
    "# fig.show()    # 如果在jupyternotebook里，请设置on_notebook=True\n",
    "# 您可以更改函数参数以查看更改后的效果。"
   ]
  },
  {
   "cell_type": "code",
   "execution_count": null,
   "metadata": {
    "notebookRunGroups": {
     "groupValue": "1"
    }
   },
   "outputs": [],
   "source": [
    "# ====== 静力分析设置 ====== #\n",
    "Nsteps = 10\n",
    "ops.system('BandGeneral')   # 求解器类型，BandGeneral适用于带状矩阵，如梁柱结构\n",
    "ops.constraints('Transformation')  # 约束处理方法，Transformation，适用于大多数问题\n",
    "ops.numberer('RCM')  # 节点编号方法，RCM (Reverse Cuthill-McKee)算法，可以减少带宽\n",
    "ops.test('NormDispIncr', 1.0e-12, 15, 3)  # 收敛测试:位移增量范数,容差1.0e-12,最大迭代数15\n",
    "ops.algorithm('Newton')  # 解算法，Newton-Raphson法，适用于大多数非线性问题\n",
    "ops.integrator('LoadControl', 1 / Nsteps) # Nsteps与步长的乘积一定要为1，代表施加一倍荷载，乘积为2代表施加两倍荷载\n",
    "ops.analysis('Static')\n",
    "print(\"静力分析设置完成\")"
   ]
  },
  {
   "cell_type": "markdown",
   "metadata": {},
   "source": [
    "如果对这些参数的作用和区别感兴趣，可以参考以下资料：\n",
    "\n",
    "[system命令](https://mp.weixin.qq.com/s?__biz=MzI3MDQ3MDQ1MA%3D%3D&mid=2247484913&idx=1&sn=1ffc5bc5a489dd902cf1cfd77da2503c) | \n",
    "[numberer命令](https://mp.weixin.qq.com/s?__biz=MzI3MDQ3MDQ1MA%3D%3D&mid=2247484834&idx=1&sn=27f214abf1999a6e293056a6e775a46a) | \n",
    "[LoadControl步长](https://mp.weixin.qq.com/s?__biz=MzI3MDQ3MDQ1MA%3D%3D&mid=2247484820&idx=1&sn=251a494ebdd5e876d2607922ba663d79) | \n"
   ]
  },
  {
   "cell_type": "code",
   "execution_count": 12,
   "metadata": {
    "notebookRunGroups": {
     "groupValue": "1"
    }
   },
   "outputs": [],
   "source": [
    "# start analysis loop\n",
    "for i in range(Nsteps):\n",
    "    ok = ops.analyze(1)\n",
    "    ModelData.get_resp_step()\n",
    "# save all responses data after loop\n",
    "ModelData.save_resp_all(save_file=\"RespStepData-1.hdf5\")"
   ]
  },
  {
   "cell_type": "code",
   "execution_count": 43,
   "metadata": {},
   "outputs": [],
   "source": [
    "# 可视化(这里的x，y，z分别代表梁单元局部坐标系的x，y，z方向)\n",
    "opsvis = opst.OpsVisPlotly(point_size=2, line_width=3, colors_dict=None, theme=\"plotly\",\n",
    "                           color_map=\"jet\", results_dir=\"opstool_output\",on_notebook=True)\n",
    "fig = opsvis.frame_resp_vis(input_file=\"RespStepData-1.hdf5\",\n",
    "                      ele_tags=None,\n",
    "                      slider=True,\n",
    "                      response=\"Mz\",\n",
    "                      show_values=False,\n",
    "                      alpha=1.0,\n",
    "                      opacity=1)\n",
    "fig.write_html(\"ModelDefo.html\", auto_open=True)    # 在浏览器里自动打开\n",
    "# fig.show()    # 如果在jupyternotebook里，请设置on_notebook=True"
   ]
  },
  {
   "cell_type": "markdown",
   "metadata": {},
   "source": [
    "简支梁跨中弯矩和位移应该是多少呢？\n",
    "\n",
    "跨中弯矩：$$M=q\\cdot L^2/8 = 50ton\\cdot 9.81\\cdot 30^2/8 = 55181.25kN\\cdot m$$\n",
    "跨中位移：$$v=q\\cdot L^4/(8EI) = 50ton\\cdot 9.81\\cdot 30^4/(8\\cdot 210e6\\cdot 2.32) = 0.012m$$"
   ]
  },
  {
   "cell_type": "code",
   "execution_count": null,
   "metadata": {},
   "outputs": [],
   "source": [
    "# 也可以直接提取主梁挠度数据进行画图\n",
    "import plotly.graph_objects as go\n",
    "# 获取主梁节点位移\n",
    "girder_disp = [ops.nodeDisp(1000+i+1, 3) for i in range(nL+1)]\n",
    "# 创建x坐标\n",
    "x = [i * L / nL for i in range(nL+1)]\n",
    "# 创建图表\n",
    "fig = go.Figure()\n",
    "# 添加主梁挠度曲线\n",
    "fig.add_trace(go.Scatter(x=x, y=girder_disp, mode='lines+markers', name='主梁挠度'))\n",
    "# 设置图表布局\n",
    "fig.update_layout(\n",
    "    title='主梁挠度图',\n",
    "    xaxis_title='跨度位置 (m)',\n",
    "    yaxis_title='挠度 (m)',\n",
    "    yaxis_zeroline=True,\n",
    "    yaxis_zerolinewidth=2,\n",
    "    yaxis_zerolinecolor='LightGray'\n",
    ")\n",
    "# 显示图表\n",
    "fig.show()"
   ]
  },
  {
   "cell_type": "code",
   "execution_count": null,
   "metadata": {},
   "outputs": [],
   "source": [
    "# 设置重力荷载为常量并重置域中的时间(这一步很重要，避免自重继续随时间增加)\n",
    "ops.loadConst('-time', 0.0)\n",
    "print(\"重力分析完成\")"
   ]
  },
  {
   "cell_type": "code",
   "execution_count": 15,
   "metadata": {},
   "outputs": [],
   "source": [
    "# 地震动分析\n",
    "# 删除旧的分析\n",
    "ops.wipeAnalysis()\n",
    "\n",
    "# 修改分析设置以适应地震分析\n",
    "ops.system('BandGeneral')\n",
    "ops.constraints('Plain')\n",
    "ops.test('NormDispIncr', 1.0e-12,  10)\n",
    "ops.algorithm('Newton')\n",
    "ops.numberer('RCM')\n",
    "ops.integrator('Newmark',  0.5,  0.25)\n",
    "ops.analysis('Transient')"
   ]
  },
  {
   "cell_type": "code",
   "execution_count": null,
   "metadata": {},
   "outputs": [],
   "source": [
    "# 可以记录一下地震分析之前的结构周期\n",
    "import math\n",
    "numEigen = 3\n",
    "eigenValues = ops.eigen(numEigen)\n",
    "periods = [2*math.pi/math.sqrt(eigenValues[i]) for i in range(numEigen)]\n",
    "print(\"地震分析开始时的周期(s):\", periods)\n",
    "\n",
    "# 利用前两阶周期计算瑞利阻尼因子\n",
    "xi = 0.05 # 阻尼比0.05\n",
    "omega1,omega2 = 2*math.pi/periods[0],2*math.pi/periods[1]\n",
    "# 计算瑞丽阻尼系数 α 和 β\n",
    "alpha = 2 * xi * (omega1 * omega2) / (omega1 + omega2)\n",
    "beta = 2 * xi / (omega1 + omega2)\n",
    "ops.rayleigh(alpha, 0.0, beta, 0.0)"
   ]
  },
  {
   "cell_type": "code",
   "execution_count": 48,
   "metadata": {},
   "outputs": [],
   "source": [
    "# # 可视化前记得先获取可视化数据（取消注释即可使用）（如果上面运行过则不需要）\n",
    "# import opstool as opst\n",
    "# # 获取模型数据\n",
    "# ModelData = opst.GetFEMdata(results_dir=\"opstool_output\")\n",
    "# ModelData.get_model_data(save_file=\"ModelData.hdf5\",print_model_info=False)\n",
    "# opsvis = opst.OpsVisPlotly(point_size=2, line_width=3, colors_dict=None, theme=\"plotly\",\n",
    "#                            color_map=\"jet\", results_dir=\"opstool_output\",on_notebook=True)"
   ]
  },
  {
   "cell_type": "code",
   "execution_count": null,
   "metadata": {},
   "outputs": [],
   "source": [
    "# 到这里就可以进行模态分析了，还是用plotly（plotly对零长单元支持不太好）\n",
    "ModelData.get_eigen_data(mode_tag=9, solver=\"-genBandArpack\",\n",
    "                         save_file='EigenData.hdf5')\n",
    "fig = opsvis.eigen_vis(input_file='EigenData.hdf5',\n",
    "                 mode_tags=[1,9], subplots=True,\n",
    "                 alpha=1.0, show_outline=False,\n",
    "                 show_origin=True, opacity=1.0,\n",
    "                 show_face_line=True)\n",
    "fig.show()"
   ]
  },
  {
   "cell_type": "code",
   "execution_count": null,
   "metadata": {},
   "outputs": [],
   "source": [
    "# 如果plotly中的模态显示不全，可以尝试使用pyvista进行可视化\n",
    "# 这里尝试使用pyvista进行模态可视化,注意不在notebook里运行请把on_notebook设为False\n",
    "opsvis = opst.OpsVisPyvista(point_size=0, line_width=2,\n",
    "                            colors_dict=None, theme=\"document\",\n",
    "                            color_map=\"coolwarm\", on_notebook=True,\n",
    "                            results_dir=\"opstool_output\")\n",
    "\n",
    "# 获取特征值数据\n",
    "ModelData.get_eigen_data(mode_tag=9, solver=\"-genBandArpack\",\n",
    "                         save_file='EigenData.hdf5')\n",
    "\n",
    "# 可视化特征值\n",
    "opsvis.eigen_vis(input_file='EigenData.hdf5',\n",
    "                 mode_tags=[1, 9], subplots=True,\n",
    "                 alpha=1.0, show_outline=False,\n",
    "                 show_origin=True, opacity=1.0,\n",
    "                 show_face_line=False, save_fig='images/EigenVis2.svg')"
   ]
  },
  {
   "cell_type": "code",
   "execution_count": 51,
   "metadata": {},
   "outputs": [],
   "source": [
    "# 如果上面用pyvista得到的结果是静态的，根据提示安装trame或其他包，并确保其与pyvista版本兼容\n",
    "# !pip install trame==2.1.1"
   ]
  },
  {
   "cell_type": "code",
   "execution_count": null,
   "metadata": {},
   "outputs": [],
   "source": [
    "# 读取地震动记录\n",
    "from pathlib import Path\n",
    "# 将earthquakerecord.txt文件放在同一目录下即可\n",
    "filepath = Path.cwd() / 'earthquakerecord.txt'\n",
    "print(f\"地震记录文件路径：{filepath.absolute()}\")\n",
    "# 设置时间序列\n",
    "nsteps,dt = 6062,0.01\n",
    "ts_tag = 3\n",
    "ops.timeSeries('Path', ts_tag, '-filePath', str(filepath), '-dt', dt, '-factor', g)\n",
    "# 创建地震动荷载模式\n",
    "axis = 1    # 地震动输入方向\n",
    "ops.pattern('UniformExcitation', 2, axis, '-accel', ts_tag)"
   ]
  },
  {
   "cell_type": "markdown",
   "metadata": {},
   "source": [
    "如何记录地震分析结果？\n",
    "\n",
    "这个问题在进行动力分析之前就需要考虑。以下介绍三种方法：\n",
    "\n",
    "1. 传统方法：创建recorder进行记录\n",
    "\n",
    "    - 优点：可以直接写入到文件\n",
    "    - 缺点：每步进行IO操作，速度慢\n",
    "\n",
    "2. 推荐方法：利用Python提取响应\n",
    "\n",
    "    - 优点：\n",
    "        - 无需每步IO，速度快\n",
    "        - 可以提取任意响应\n",
    "        - 可以实时后处理\n",
    "    - 缺点：几乎没有\n",
    "\n",
    "3. 便捷方法：利用opstool记录所有结果\n",
    "\n",
    "    - 优点：方便\n",
    "    - 缺点：需要大量存储空间"
   ]
  },
  {
   "cell_type": "code",
   "execution_count": null,
   "metadata": {},
   "outputs": [],
   "source": [
    "# 假设这里我们想记录墩顶位移，主梁中间节点加速度和主梁中间单元的加速度\n",
    "\n",
    "# 先说最简单的第三种方法，只需要在记录的时候运行下面的记录函数\n",
    "# ModelData.get_resp_step()\n",
    "# 然后在计算完成后保存即可（这里基本上记录了所有信息）\n",
    "# ModelData.save_resp_all(save_file=\"RespStepData-2.hdf5\")\n",
    "\n",
    "# 实际上，记录所有信息对于实际分析而言一般是不必要也不可能的，如果每步都记录很容易卡住，建议仅在调试时使用\n",
    "# 一般需要自己定义记录的参数:\n",
    "\n",
    "# 下面演示第一种方法，创建recorder\n",
    "# 记录x方向主梁中间节点加速度\n",
    "ops.recorder('Node', '-file', 'girder_acc.txt', '-timeSeries', ts_tag, '-time', '-dT', dt, '-node', 1000+int(nL/2)+1, '-dof', 1, 'accel')\n",
    "# 记录x方向墩顶位移和转角\n",
    "ops.recorder('Node', '-file', 'pier_disp.txt', '-time','-dT', dt, '-node', 100+nH+1, '-dof', *[1,5], 'disp')\n",
    "# 记录桥墩剪力和弯矩,localForce代表局部坐标系下的力,globalForce代表全局坐标系下的力\n",
    "ops.recorder('Element' ,'-file', 'pier_force','-time','-dT',dt,'-eleRange',101,101+nH,'localForce')"
   ]
  },
  {
   "cell_type": "markdown",
   "metadata": {},
   "source": [
    "如果对于具体能记录哪些响应感兴趣，可以参考以下资料:\n",
    "[recorder命令文档](https://openseespydoc.readthedocs.io/en/latest/src/recorder.html) | \n",
    "[公众号文章](https://mp.weixin.qq.com/s?__biz=MzI3MDQ3MDQ1MA%3D%3D&mid=2247484428&idx=1&sn=632bf8b1f71d72d493cab8ad4fbe2421)"
   ]
  },
  {
   "cell_type": "markdown",
   "metadata": {},
   "source": [
    "下面演示第二种方法，每步提取响应，这里说说怎么提取响应\n",
    "\n",
    "我们一般可以通过如下两种方式进行记录节点和单元的响应\n",
    "1. 使用ops.nodeResponse(nodeTag, dof, responseID), 常用的如Disp=1, Vel=2, Accel=3, Reaction=6\n",
    "2. 使用ops.eleResponse(eleTag, *args), 常用的如\"deformation\"，\"axialForce\"，[\"material\", \"stressStrain\"]（方括号里的两个一起用）\n",
    "\n",
    "其他命令参考[文档](https://openseespydoc.readthedocs.io/en/latest/src/outputcmds.html)"
   ]
  },
  {
   "cell_type": "code",
   "execution_count": 19,
   "metadata": {},
   "outputs": [],
   "source": [
    "# 实际用法可以参考下面的例子，先定义一个提取函数\n",
    "from collections import defaultdict\n",
    "\n",
    "def save_results(results: defaultdict):\n",
    "    Accel = ops.nodeAccel(1000+int(nL/2)+1, 1)  # 获取主梁中间节点的x向加速度\n",
    "    results[\"Accel\"].append(Accel)\n",
    "    disp = ops.nodeDisp(100+nH+1, *[1,5])  # 获取左墩墩顶节点的x向位移和转角\n",
    "    results[\"Disp\"].append(disp)\n",
    "    for etag in ops.getEleTags():  # 可以很方便的遍历单元号（如果需要）\n",
    "        # 提单元内力\n",
    "        resp = ops.eleResponse(etag, \"localForce\")\n",
    "        results[f\"AxisForce-Ele{etag}\"].append(resp)\n",
    "        # 提取单元变形\n",
    "        resp = ops.eleResponse(etag, \"deformation\")\n",
    "        results[f\"AxisDefo-Ele{etag}\"].append(resp)\n",
    "        # 提取单元上材料应力应变\n",
    "        resp = ops.eleResponse(etag, \"material\", \"stressStrain\")\n",
    "        results[f\"stressStrain-Ele{etag}\"].append(resp)\n",
    "        \n",
    "    results[\"Time\"].append(ops.getTime())  # 别忘了每步对应的时间\n",
    "    \n",
    "# 定义一个字典用于存储结果\n",
    "RESULTS = defaultdict(lambda: [])"
   ]
  },
  {
   "cell_type": "code",
   "execution_count": null,
   "metadata": {},
   "outputs": [],
   "source": [
    "# 接下来就可以进行地震分析了\n",
    "# 目前比较推荐的方法是利用Opstool中的SmartAnalyze类进行地震分析\n",
    "# 导入notebook中需要用到的clear_output函数，用于清除之前的输出\n",
    "from IPython.display import clear_output\n",
    "# SmartAnalyze可以控制自动更换分析方法，积分步长等等设置，非常方便，具体查看opstool文档，这里简单演示，不调整参数\n",
    "analysis = opst.SmartAnalyze(analysis_type=\"Transient\",)\n",
    "segs = analysis.transient_split(nsteps)\n",
    "for seg in segs:\n",
    "    clear_output(wait=True)  # 清除之前的输出，不是分析必要的，只是为了看起来更美观\n",
    "    analysis.TransientAnalyze(dt)   # 分析一个dt\n",
    "    \n",
    "    # 第一种记录方法，无需在此处进行任何操作\n",
    "    \n",
    "    # 第二种记录方法，每步利用提取函数提取响应\n",
    "    save_results(RESULTS)\n",
    "    \n",
    "    # 第三种记录方法，使用opstool进行记录（这里每50步记录一次是为了演示速度）\n",
    "    if seg%50==0:\n",
    "        ModelData.get_resp_step()\n",
    "        \n",
    "# 保存地震分析结果(对应第三种方法)\n",
    "ModelData.save_resp_all(save_file=\"RespStepData-2.hdf5\")"
   ]
  },
  {
   "cell_type": "code",
   "execution_count": null,
   "metadata": {},
   "outputs": [],
   "source": [
    "# 地震之后的结构周期发生了什么变化？\n",
    "eigenValues = ops.eigen(numEigen)\n",
    "periods = [2*math.pi/math.sqrt(eigenValues[i]) for i in range(numEigen)]\n",
    "print(\"地震分析结束时的周期(s):\", periods)"
   ]
  },
  {
   "cell_type": "code",
   "execution_count": 57,
   "metadata": {},
   "outputs": [],
   "source": [
    "# 想不想知道地震过程中结构的受力情况？(简单看看Opstool记录的结果)\n",
    "opsvis = opst.OpsVisPlotly(point_size=2, line_width=3, colors_dict=None, theme=\"plotly\",\n",
    "                           color_map=\"jet\", results_dir=\"opstool_output\",on_notebook=True)\n",
    "fig = opsvis.frame_resp_vis(input_file=\"RespStepData-2.hdf5\",\n",
    "                      ele_tags=None,\n",
    "                      slider=True,\n",
    "                      response=\"Mz\",\n",
    "                      show_values=False,\n",
    "                      alpha=1.0,\n",
    "                      opacity=1)\n",
    "fig.write_html(\"Modelearthquake.html\", auto_open=True)    # 在浏览器里自动打开\n",
    "# fig.show()"
   ]
  },
  {
   "cell_type": "code",
   "execution_count": null,
   "metadata": {},
   "outputs": [],
   "source": [
    "# 第一种方法记录的形式是怎样？自行查看对应文件\n",
    "# 怎样从文件中读取绘制？自行编程实现\n",
    "\n",
    "# 第二种方法记录得到的字段有哪些？\n",
    "print(RESULTS.keys())\n",
    "# 简单两行代码即可转换为numpy数组，方便后续分析\n",
    "for key, value in RESULTS.items():\n",
    "    RESULTS[key] = np.array(value)"
   ]
  },
  {
   "cell_type": "code",
   "execution_count": null,
   "metadata": {},
   "outputs": [],
   "source": [
    "# 绘制利用第二种方式记录到的结果\n",
    "import plotly.graph_objects as go\n",
    "from plotly.subplots import make_subplots\n",
    "\n",
    "# 创建子图\n",
    "fig = make_subplots(rows=3, cols=1, shared_xaxes=True, vertical_spacing=0.1,\n",
    "                    subplot_titles=(\"左墩墩顶节点的x向位移\", \"主梁中间节点的x向加速度\", \"支座单元的x向相对位移\"))\n",
    "\n",
    "# 绘制左墩墩顶节点的x向位移\n",
    "fig.add_trace(\n",
    "    go.Scatter(x=RESULTS[\"Time\"], y=RESULTS[\"Disp\"], mode='lines', name='墩顶位移'),\n",
    "    row=1, col=1\n",
    ")\n",
    "\n",
    "# 绘制主梁中间节点的x向加速度\n",
    "fig.add_trace(\n",
    "    go.Scatter(x=RESULTS[\"Time\"], y=RESULTS[\"Accel\"], mode='lines', name='主梁加速度'),\n",
    "    row=2, col=1\n",
    ")\n",
    "\n",
    "# 绘制支座单元的x向相对位移\n",
    "bearing_deformation = RESULTS[f\"AxisDefo-Ele{11}\"]\n",
    "bearing_x_defo = [defo[0] for defo in bearing_deformation]\n",
    "fig.add_trace(\n",
    "    go.Scatter(x=RESULTS[\"Time\"], y=bearing_x_defo, mode='lines', name='支座相对位移'),\n",
    "    row=3, col=1\n",
    ")\n",
    "\n",
    "\n",
    "# 更新布局\n",
    "fig.update_layout(height=600, width=800, title_text=\"节点响应时程曲线\")\n",
    "fig.update_xaxes(title_text=\"时间 (s)\", row=2, col=1)\n",
    "fig.update_yaxes(title_text=\"位移 (m)\", row=1, col=1)\n",
    "fig.update_yaxes(title_text=\"加速度 (m/s²)\", row=2, col=1)\n",
    "fig.update_xaxes(title_text=\"时间 (s)\", row=3, col=1)\n",
    "fig.update_yaxes(title_text=\"位移 (m)\", row=3, col=1)\n",
    "\n",
    "# 显示图表\n",
    "fig.show()\n"
   ]
  },
  {
   "cell_type": "code",
   "execution_count": null,
   "metadata": {},
   "outputs": [],
   "source": [
    "# 对照一下我们的地震动输入？\n",
    "import plotly.graph_objects as go\n",
    "\n",
    "# 读取地震记录数据\n",
    "filepath = 'earthquakerecord.txt'\n",
    "earthquake_data = np.loadtxt(filepath)\n",
    "\n",
    "# 创建时间数组\n",
    "time = np.arange(0, len(earthquake_data) * dt, dt)\n",
    "\n",
    "# 创建图表\n",
    "fig = go.Figure()\n",
    "\n",
    "# 添加地震记录曲线\n",
    "fig.add_trace(go.Scatter(x=time, y=earthquake_data, mode='lines', name='地震记录'))\n",
    "\n",
    "# 更新布局\n",
    "fig.update_layout(\n",
    "    title='输入地震动时程曲线',\n",
    "    xaxis_title='时间 (s)',\n",
    "    yaxis_title='加速度 (g)',\n",
    "    width=800,\n",
    "    height=400\n",
    ")\n",
    "\n",
    "# 显示图表\n",
    "fig.show()\n",
    "\n",
    "print(\"地震记录的持续时间：{:.2f}秒\".format(time[-1]))\n",
    "print(\"地震记录的最大加速度：{:.4f}g\".format(np.max(np.abs(earthquake_data))))\n"
   ]
  }
 ],
 "metadata": {
  "kernelspec": {
   "display_name": "Python 3",
   "language": "python",
   "name": "python3"
  },
  "language_info": {
   "codemirror_mode": {
    "name": "ipython",
    "version": 3
   },
   "file_extension": ".py",
   "mimetype": "text/x-python",
   "name": "python",
   "nbconvert_exporter": "python",
   "pygments_lexer": "ipython3",
   "version": "3.12.1"
  }
 },
 "nbformat": 4,
 "nbformat_minor": 2
}
